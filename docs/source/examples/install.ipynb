{
  "cells": [
    {
      "cell_type": "code",
      "execution_count": null,
      "metadata": {
        "collapsed": false
      },
      "outputs": [],
      "source": [
        "%matplotlib inline"
      ]
    },
    {
      "cell_type": "markdown",
      "metadata": {},
      "source": [
        "\nLocal Installation of alphaMELTS\n----------------------------------\n\npyrolite can download and manage its own version of alphaMELTS (without any real\n'installation', *per-se*), and use this for :mod:`~pyrolite.util.alphamelts.automation`\npurposes.\n\n\n"
      ]
    },
    {
      "cell_type": "code",
      "execution_count": null,
      "metadata": {
        "collapsed": false
      },
      "outputs": [],
      "source": [
        "from pyrolite.util.meta import stream_log\nfrom pyrolite_meltsutil.download import install_melts\nfrom pyrolite_meltsutil.util import pyrolite_meltsutil_datafolder"
      ]
    },
    {
      "cell_type": "markdown",
      "metadata": {},
      "source": [
        "Here we can do a conditonal install - only downloading alphamelts if it doesnt exist:\n\n\n"
      ]
    },
    {
      "cell_type": "code",
      "execution_count": null,
      "metadata": {
        "collapsed": false
      },
      "outputs": [],
      "source": [
        "if not (pyrolite_meltsutil_datafolder(subfolder=\"localinstall\")).exists():\n    stream_log(\"pyrolite.util.alphamelts\", level=\"INFO\")  # logger for output info\n    install_melts(local=True)  # install a copy of melts to pyrolite data folder"
      ]
    },
    {
      "cell_type": "markdown",
      "metadata": {},
      "source": [
        "<div class=\"alert alert-danger\"><h4>Warning</h4><p>This 'local install' method still requires that you have Perl installed,\n          as it uses the Perl :code:`run_alphamelts.command` script. If you're on\n          Windows, you can use `Strawberry Perl <http://strawberryperl.com/>`__\n          for this purpose.</p></div>\n\n.. seealso::\n\n  Examples:\n    `alphaMELTS Environment Configuration <environment.html>`__,\n    `Automating alphaMELTS Runs <automation.html>`__,\n    `Handling Outputs from Melts: Tables <tables.html>`__,\n    `Compositional Uncertainty Propagation for alphaMELTS Experiments <montecarlo.html>`__\n\n"
      ]
    }
  ],
  "metadata": {
    "kernelspec": {
      "display_name": "Python 3",
      "language": "python",
      "name": "python3"
    },
    "language_info": {
      "codemirror_mode": {
        "name": "ipython",
        "version": 3
      },
      "file_extension": ".py",
      "mimetype": "text/x-python",
      "name": "python",
      "nbconvert_exporter": "python",
      "pygments_lexer": "ipython3",
      "version": "3.6.7"
    }
  },
  "nbformat": 4,
  "nbformat_minor": 0
}