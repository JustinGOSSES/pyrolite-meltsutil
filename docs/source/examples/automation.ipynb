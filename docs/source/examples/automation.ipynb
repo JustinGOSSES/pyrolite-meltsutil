{
  "cells": [
    {
      "cell_type": "code",
      "execution_count": null,
      "metadata": {
        "collapsed": false
      },
      "outputs": [],
      "source": [
        "%matplotlib inline"
      ]
    },
    {
      "cell_type": "markdown",
      "metadata": {},
      "source": [
        "\nAutomating alphaMELTS runs\n=============================\n\npyrolite includes some utilities to help you run alphaMELTS with a little less hassle,\nespecially for established workflows or repetitive calculations. Here we run multiple\nexperiments at different conditions for a single MORB composition. Once we have the\ndata in a :class:`~pandas.DataFrame`, we configure the default alphaMELTS environment\nbefore running the batch of experiments.\n\n"
      ]
    },
    {
      "cell_type": "code",
      "execution_count": null,
      "metadata": {
        "collapsed": false
      },
      "outputs": [],
      "source": [
        "import os, sys\nimport numpy as np\nimport pandas as pd\nfrom pathlib import Path\nimport matplotlib.pyplot as plt\nimport pyrolite.plot\nfrom pyrolite.geochem.norm import get_reference_composition\nfrom pyrolite_meltsutil.env import MELTS_Env\nfrom pyrolite_meltsutil.automation import MeltsBatch\n\nfrom pyrolite.util.meta import stream_log\nimport logging\n\nlogger = logging.Logger(__name__)\nstream_log(logger)  # print the logging output"
      ]
    },
    {
      "cell_type": "code",
      "execution_count": null,
      "metadata": {
        "collapsed": false
      },
      "outputs": [],
      "source": [
        "Gale_MORB = get_reference_composition(\"MORB_Gale2013\")\nmajors = [\"SiO2\", \"Al2O3\", \"FeO\", \"MnO\", \"MgO\", \"CaO\", \"Na2O\", \"TiO2\", \"K2O\", \"P2O5\"]\nMORB = Gale_MORB.comp[majors].reset_index(drop=True)\nMORB[\"Title\"] = [\n    \"{}_{}\".format(Gale_MORB.name, ix) for ix in MORB.index.values.astype(str)\n]\nMORB[\"Initial Temperature\"] = 1300\nMORB[\"Final Temperature\"] = 800\nMORB[\"Initial Pressure\"] = 5000\nMORB[\"Final Pressure\"] = 5000\nMORB[\"Log fO2 Path\"] = \"FMQ\"\nMORB[\"Increment Temperature\"] = -5\nMORB[\"Increment Pressure\"] = 0"
      ]
    },
    {
      "cell_type": "code",
      "execution_count": null,
      "metadata": {
        "collapsed": false
      },
      "outputs": [],
      "source": [
        "env = MELTS_Env()\nenv.VERSION = \"MELTS\"\nenv.MODE = \"isobaric\"\nenv.MINP = 5000\nenv.MAXP = 10000\nenv.MINT = 500\nenv.MAXT = 1500\nenv.DELTAT = -10\nenv.DELTAP = 0"
      ]
    },
    {
      "cell_type": "code",
      "execution_count": null,
      "metadata": {
        "collapsed": false
      },
      "outputs": [],
      "source": [
        "batch = MeltsBatch(\n    MORB,\n    default_config={\n        \"Initial Pressure\": 7000,\n        \"Initial Temperature\": 1400,\n        \"Final Temperature\": 800,\n        \"modes\": [\"isobaric\", \"fractionate solids\"],\n    },\n    grid={\n        \"Initial Pressure\": [5000],\n        \"Log fO2 Path\": [None, \"FMQ\"],\n        \"modifychem\": [None, {\"H2O\": 0.5}],\n    },\n    env=env,\n    logger=logger,\n)\n\nbatch.run(\n    overwrite=True\n)  # overwrite=False if you don't want to update existing exp folders"
      ]
    },
    {
      "cell_type": "markdown",
      "metadata": {},
      "source": [
        ".. seealso::\n\n  Examples:\n    `alphaMELTS Environment Configuration <environment.html>`__,\n    `pyrolite-hosted alphaMELTS Installation <localinstall.html>`__,\n    `Handling Outputs from Melts: Tables <tables.html>`__,\n    `Compositional Uncertainty Propagation for alphaMELTS Experiments <montecarlo.html>`__\n\n\n"
      ]
    }
  ],
  "metadata": {
    "kernelspec": {
      "display_name": "Python 3",
      "language": "python",
      "name": "python3"
    },
    "language_info": {
      "codemirror_mode": {
        "name": "ipython",
        "version": 3
      },
      "file_extension": ".py",
      "mimetype": "text/x-python",
      "name": "python",
      "nbconvert_exporter": "python",
      "pygments_lexer": "ipython3",
      "version": "3.6.7"
    }
  },
  "nbformat": 4,
  "nbformat_minor": 0
}