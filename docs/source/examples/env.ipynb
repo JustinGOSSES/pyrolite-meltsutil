{
  "cells": [
    {
      "cell_type": "code",
      "execution_count": null,
      "metadata": {
        "collapsed": false
      },
      "outputs": [],
      "source": [
        "%matplotlib inline"
      ]
    },
    {
      "cell_type": "markdown",
      "metadata": {},
      "source": [
        "\nalphaMELTS Environment\n------------------------\n\n"
      ]
    },
    {
      "cell_type": "code",
      "execution_count": null,
      "metadata": {
        "collapsed": false
      },
      "outputs": [],
      "source": [
        "from pyrolite_meltsutil.env import MELTS_Env"
      ]
    },
    {
      "cell_type": "markdown",
      "metadata": {},
      "source": [
        "Set up an environment for an experiment stepping down temperature from 1350 to 1000\nin 3 degree steps:\n\n\n"
      ]
    },
    {
      "cell_type": "code",
      "execution_count": null,
      "metadata": {
        "collapsed": false
      },
      "outputs": [],
      "source": [
        "env = MELTS_Env()\nenv.MINP = 7000\nenv.MAXP = 7000\nenv.MINT = 1000\nenv.MAXT = 1350\nenv.DELTAT = -3"
      ]
    },
    {
      "cell_type": "markdown",
      "metadata": {},
      "source": [
        "You can directly export these parameters to an envrionment file:\n\n\n"
      ]
    },
    {
      "cell_type": "code",
      "execution_count": null,
      "metadata": {
        "collapsed": false
      },
      "outputs": [],
      "source": [
        "with open(\"pyrolite_envfile.txt\", \"w\") as f:\n    f.write(env.to_envfile(unset_variables=False))"
      ]
    },
    {
      "cell_type": "markdown",
      "metadata": {},
      "source": [
        "You can then pass this to alphamelts using\n:code:`run_alphamelts.command -f pyrolite_envfile.txt`\n\n.. seealso::\n\n  Examples:\n    `pyrolite-hosted alphaMELTS Installation <localinstall.html>`__,\n    `Automating alphaMELTS Runs <automation.html>`__,\n    `Handling Outputs from Melts: Tables <tables.html>`__,\n    `Compositional Uncertainty Propagation for alphaMELTS Experiments <montecarlo.html>`__\n\n\n"
      ]
    }
  ],
  "metadata": {
    "kernelspec": {
      "display_name": "Python 3",
      "language": "python",
      "name": "python3"
    },
    "language_info": {
      "codemirror_mode": {
        "name": "ipython",
        "version": 3
      },
      "file_extension": ".py",
      "mimetype": "text/x-python",
      "name": "python",
      "nbconvert_exporter": "python",
      "pygments_lexer": "ipython3",
      "version": "3.6.7"
    }
  },
  "nbformat": 4,
  "nbformat_minor": 0
}