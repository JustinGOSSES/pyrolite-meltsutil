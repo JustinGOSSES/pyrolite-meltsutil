{
  "cells": [
    {
      "cell_type": "code",
      "execution_count": null,
      "metadata": {
        "collapsed": false
      },
      "outputs": [],
      "source": [
        "%matplotlib inline"
      ]
    },
    {
      "cell_type": "markdown",
      "metadata": {},
      "source": [
        "\nInterfacing with the Melts Web Services\n=========================================\n\nThe MELTS web services provide the ability to conduct melting and fractionation\ncomputations using whole-rock major element compositions. Some information can be found\n`here <http://melts.ofm-research.org/web-services.html>`__. The MELTS WS Compute web\nservice can be found\n`here <http://thermofit.ofm-research.org:8080/multiMELTSWSBxApp/Compute>`__.  A minimal\ninterface to this web service is provided in :mod:`pyrolite.ext.alphamelts.web`.\nThe basic functionality of this is demonstrated below (obtaining valid phases and oxides\nfor a specific model of MELTS, and performing a single computation). Here we use a\ndictionary to pass information to the service; this can be customised to your use case.\n\n"
      ]
    },
    {
      "cell_type": "code",
      "execution_count": null,
      "metadata": {
        "collapsed": false
      },
      "outputs": [],
      "source": [
        "from pyrolite_meltsutil.web import *\n\ndef default_datadict():\n    d = {}\n    d[\"title\"] = (\"TestREST\",)\n    d[\"initialize\"] = {\n        \"SiO2\": 48.68,\n        \"TiO2\": 1.01,\n        \"Al2O3\": 17.64,\n        \"Fe2O3\": 0.89,\n        \"Cr2O3\": 0.0425,\n        \"FeO\": 7.59,\n        \"MnO\": 0.0,\n        \"MgO\": 9.10,\n        \"NiO\": 0.0,\n        \"CoO\": 0.0,\n        \"CaO\": 12.45,\n        \"Na2O\": 2.65,\n        \"K2O\": 0.03,\n        \"P2O5\": 0.08,\n        \"H2O\": 0.20,\n    }\n    d[\"calculationMode\"] = \"findLiquidus\"\n    d[\"constraints\"] = {\"setTP\": {\"initialT\": 1200, \"initialP\": 1000}}\n    return d\n\n\nD = default_datadict()"
      ]
    },
    {
      "cell_type": "markdown",
      "metadata": {},
      "source": [
        "To obtain a list of phases or oxides for a specific model of MELTS (defaulting to\nrhyolite-MELTS version 1.0.2, can be changed with a `modelSelection` parameter; see\nbelow), you can use the Phases and Oxides services:\n\n\n"
      ]
    },
    {
      "cell_type": "code",
      "execution_count": null,
      "metadata": {
        "collapsed": false
      },
      "outputs": [],
      "source": [
        "melts_oxides(D)"
      ]
    },
    {
      "cell_type": "code",
      "execution_count": null,
      "metadata": {
        "collapsed": false
      },
      "outputs": [],
      "source": [
        "melts_phases(D)"
      ]
    },
    {
      "cell_type": "markdown",
      "metadata": {},
      "source": [
        "The compute service is also simple to access, and can be customised to provide\ndifferent versions of MELTS and different computation modes\n(:code:`\"findLiquidus\", \"equilibrate\", \"findWetLiquidus\"`).\n\n\n"
      ]
    },
    {
      "cell_type": "code",
      "execution_count": null,
      "metadata": {
        "collapsed": false
      },
      "outputs": [],
      "source": [
        "melts_compute(D)"
      ]
    },
    {
      "cell_type": "markdown",
      "metadata": {},
      "source": [
        "Compute Parameters\n-------------------\n\nParameters can be passed to the compute query to customise the calculation. A\nselection of parameters and possible values can be found in the\n`XML schema <http://melts.ofm-research.org/WebServices/MELTSinput.xsd>`__ and\n`documentation <http://melts.ofm-research.org/WebServices/MELTSinput_Schema_Generated_Docs/MELTSinput.html>`__\non the melts website.\n\n..\n  :code:`initialize`\n\n    * :code:`modelSelection`\n\n      * *`MELTS_v1.0.x`* |, *`MELTS_v1.1.x`* | *`MELTS_v1.2.x`* | *`pMELTS_v5.6.1`*\n      * all compositional variables\n\n  :code:`fractionateOnly`:\n\n    * *`fractionateSolids`*, *`fractionateFluids`*, *`fractionateLiquids`*  (choose 1-2)\n\n  :code:`constraints` (choose one; thermoengine also has SV)\n\n    * These modes are available:\n\n      1. *`setTP`* temperature-pressure\n      2. *`setTV`* temperature-volume\n      3. *`setHP`* enthalpy-pressure\n      4. *`setSP`* entropy-pressure\n\n    * :code:`initial<var>` must be set\n    * Optional: :code:`final<var>`, :code:`inc<var>`, :code:`d<var2>d<var1>`\n    * :code:`fo2Path`: *`none`* | *`fmq`* | *`coh`* | *`nno`* | *`iw`* | *`hm`*\n\n  :code:`fractionationMode`: *`fractionateNone`*, *`fractionateSolids`*, *`fractionateFluids`*, *`fractionateLiquids`* (choose 0-2)\n\n  :code:`multLiquids`: :code:`True` | :code:`False`\n\n  :code:`suppressPhase`: `str`\n\n  :code:`assimilant`\n    * :code:`temperature`\n    * :code:`increments`: :code:`int`\n    * :code:`mass`\n    * :code:`units`: `vol` | `wt`s\n    * :code:`phase` (any number)\n\n      * `amorphous` | `solid` | `liquid` (with properties..)\n\nCompute Output\n-------------------\n\nAn example of formatted JSON output from the compute service is shown below.\n\n.. code-block:: json\n\n    { \"status\":\"Success: Equilibrate\",\n      \"sessionID\":\"552291051.596800.1804289383\",\n      \"title\":\"Enter a title for the run\",\n      \"time\":\"Mon Jul 2 23:10:51 2018\",\n      \"release\":\"MELTS Web Services, MELTS v.1.0.x\",\n      \"buildDate\":\"Sep 27 2016\",\n      \"buildTime\":\"08:37:35\",\n      \"temperature\":\"1200\",\n      \"pressure\":\"1000\",\n      \"log_fO2\":\"-9.292508501350249972\",\n      \"deltaHM\":\"-6.5843402903737722198\",\n      \"deltaNNO\":\"-1.7295882284656141081\",\n      \"deltaFMQ\":\"-1.0655143052398710068\",\n      \"deltaCOH\":\"1.1140739919464248686\",\n      \"deltaIW\":\"2.4523554636227675729\",\n      \"liquid\":{\"mass\":\"79.224930087117130029\",\n                \"density\":\"2.6888739764023834589\",\n                \"viscosity\":\"2.1808546355527487215\",\n                \"gibbsFreeEnergy\":\"-1281817.8163060888182\",\n                \"enthalpy\":\"-967241.03052840172313\",\n                \"entropy\":\"213.54022725295251917\",\n                \"volume\":\"29.463980380782754054\",\n                \"dvdt\":\"0.0022228926591244097498\",\n                \"dvdp\":\"-0.00018477679830941845605\",\n                \"d2vdt2\":\"6.0547123990430293847e-08\",\n                \"d2vdtdp\":\"-1.9823487546973320295e-08\",\n                \"d2vdp2\":\"8.2176933278351927828e-09\",\n                \"heatCapacity\":\"117.54760903391918703\",\n                \"SiO2\":\"49.070879713300428193\",\n                \"TiO2\":\"1.2746984706149677713\",\n                \"Al2O3\":\"15.547239314502563801\",\n                \"Fe2O3\":\"1.1219160810065404998\",\n                \"Cr2O3\":\"0.050467309333368480517\",\n                \"FeO\":\"8.6472380250776375021\",\n                \"MgO\":\"8.6112592267950649472\",\n                \"CaO\":\"12.433184035995937577\",\n                \"Na2O\":\"2.8525803875263218146\",\n                \"K2O\":\"0.037113330969942535942\",\n                \"P2O5\":\"0.10097831567919893225\",\n                \"H2O\":\"0.25244578919801691219\"},\n      \"solid\":[{\"name\":\"olivine\",\n                \"formula\":\"(Ca0.01Mg0.85Fe''0.15Mn0.00Co0.00Ni0.00)2SiO4\",\n                \"mass\":\"5.0611455532498279553\",\n                \"density\":\"3.256264076719213918\",\n                \"gibbsFreeEnergy\":\"-80793.633565014824853\",\n                \"enthalpy\":\"-62670.686010467339656\",\n                \"entropy\":\"12.302173950071260577\",\n                \"volume\":\"1.5542798231367915829\",\n                \"dvdt\":\"7.3368482662024503633e-05\",\n                \"dvdp\":\"-1.159590122970580791e-06\",\n                \"d2vdt2\":\"2.5826647116800414035e-08\",\n                \"d2vdtdp\":\"2.9194839589241691073e-14\",\n                \"d2vdp2\":\"3.4022602849075366441e-12\",\n                \"heatCapacity\":\"6.3269887937074473783\",\n                \"SiO2\":\"39.907476858520290364\",\n                \"FeO\":\"14.58265239333134744\",\n                \"MgO\":\"44.973873816349971833\",\n                \"CaO\":\"0.53599693179839225099\",\n                \"component\":[{\"name\":\"tephroite\",\n                              \"formula\":\"Mn2SiO4\",\n                              \"moleFraction\":\"0\"},\n                              {\"name\":\"fayalite\",\n                               \"formula\":\"Fe2SiO4\",\n                               \"moleFraction\":\"0.15279468642281898716\"},\n                              {\"name\":\"co-olivine\",\n                               \"formula\":\"Co2SiO4\",\n                               \"moleFraction\":\"0\"},\n                               {\"name\":\"ni-olivine\",\n                                \"formula\":\"Ni2SiO4\",\n                                \"moleFraction\":\"0\"},\n                               {\"name\":\"monticellite\",\n                                \"formula\":\"CaMgSiO4\",\n                                \"moleFraction\":\"0.014390161918421261189\"},\n                               {\"name\":\"forsterite\",\n                                 \"formula\":\"Mg2SiO4\",\n                                 \"moleFraction\":\"0.83281515165875974471\"}]\n                                 },\n\n"
      ]
    }
  ],
  "metadata": {
    "kernelspec": {
      "display_name": "Python 3",
      "language": "python",
      "name": "python3"
    },
    "language_info": {
      "codemirror_mode": {
        "name": "ipython",
        "version": 3
      },
      "file_extension": ".py",
      "mimetype": "text/x-python",
      "name": "python",
      "nbconvert_exporter": "python",
      "pygments_lexer": "ipython3",
      "version": "3.6.7"
    }
  },
  "nbformat": 4,
  "nbformat_minor": 0
}