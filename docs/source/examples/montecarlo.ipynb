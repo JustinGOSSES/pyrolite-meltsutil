{
  "cells": [
    {
      "cell_type": "code",
      "execution_count": null,
      "metadata": {
        "collapsed": false
      },
      "outputs": [],
      "source": [
        "%matplotlib inline"
      ]
    },
    {
      "cell_type": "markdown",
      "metadata": {},
      "source": [
        "\nUncertainties and alphaMELTS Experiments\n===========================================\n\nWhile alphaMELTS is a useful tool for formulating hypotheses around magmatic processes,\nanalytical uncertainties for compositional parameters are difficult to propagate. Here\nI've given an example of taking the composition of average MORB, adding 'noise' to\nrepresent multiple possible realisations under analytical uncertainties, and conducted\nreplicate alphaMELTS experiments to provide some quantification of the uncertainties in\nthe results. Note that the 'noise' added here is uncorrelated, and as such may usefully\nrepresent analytical uncertainty. Geological uncertainties are typically strongly\ncorrelated, and the uncertainties associated with e.g. variable mineral assemblages\nshould be modelled differently.\n\n"
      ]
    },
    {
      "cell_type": "code",
      "execution_count": null,
      "metadata": {
        "collapsed": false
      },
      "outputs": [],
      "source": [
        "import numpy as np\nimport pandas as pd\nfrom pathlib import Path\nimport pyrolite.geochem\nimport pyrolite.plot\nfrom pyrolite.comp.codata import ilr, inverse_ilr\nfrom pyrolite.util.meta import stream_log\nimport logging\n\nlogger = logging.Logger(__name__)\nstream_log(logger)  # print the logging output\n\n\ndef blur_compositions(df, noise=0.05, scale=100):\n    \"\"\"\n    Function to add 'compositional noise' to a set of compositions. In reality, it's\n    its best to use measured uncertainties to generate these simulated compositions.\n    \"\"\"\n    # transform into compositional space, add noise, return to simplex\n    xvals = ilr(df.values)\n    xvals += np.random.randn(*xvals.shape) * noise\n    return inverse_ilr(xvals) * scale"
      ]
    },
    {
      "cell_type": "markdown",
      "metadata": {},
      "source": [
        "Here we can do a conditonal install - downloading alphamelts if it doesnt exist:\n\n\n"
      ]
    },
    {
      "cell_type": "code",
      "execution_count": null,
      "metadata": {
        "collapsed": false
      },
      "outputs": [],
      "source": [
        "from pyrolite_meltsutil.download import install_melts\nfrom pyrolite_meltsutil.util import pyrolite_meltsutil_datafolder\n\nif not (pyrolite_meltsutil_datafolder(subfolder=\"localinstall\")).exists():\n    stream_log(\"pyrolite-meltsutil\", level=\"INFO\")  # logger for output info\n    install_melts(local=True)  # install a copy of melts to pyrolite data folder"
      ]
    },
    {
      "cell_type": "markdown",
      "metadata": {},
      "source": [
        "We'll use the major element composition of MORB from Gale et al (2013) for this\nexercise:\n\n\n"
      ]
    },
    {
      "cell_type": "code",
      "execution_count": null,
      "metadata": {
        "collapsed": false
      },
      "outputs": [],
      "source": [
        "from pyrolite.geochem.norm import get_reference_composition\n\nGale_MORB = get_reference_composition(\"MORB_Gale2013\")\nMORB = Gale_MORB.comp.pyrochem.oxides.reset_index(drop=True)"
      ]
    },
    {
      "cell_type": "code",
      "execution_count": null,
      "metadata": {
        "collapsed": false
      },
      "outputs": [],
      "source": [
        "MORB[\"Title\"] = Gale_MORB.name\nMORB[\"Initial Temperature\"] = 1300\nMORB[\"Final Temperature\"] = 800\nMORB[\"Initial Pressure\"] = 5000\nMORB[\"Final Pressure\"] = 5000\nMORB[\"Log fO2 Path\"] = \"FMQ\"\nMORB[\"Increment Temperature\"] = -5\nMORB[\"Increment Pressure\"] = 0"
      ]
    },
    {
      "cell_type": "markdown",
      "metadata": {},
      "source": [
        "We'll replicate this composition a number of times, and then add gaussian noise\nto each to create a range of plausible compositions:\n\n\n"
      ]
    },
    {
      "cell_type": "code",
      "execution_count": null,
      "metadata": {
        "collapsed": false
      },
      "outputs": [],
      "source": [
        "from pyrolite.util.text import slugify\nfrom pyrolite.util.pd import accumulate\n\nreps = 3  # increase this to perform more experiments\ndf = accumulate([MORB] * reps)\ndf = df.reset_index().drop(columns=\"index\")\ndf[df.pyrochem.list_oxides] = (\n    df.loc[:, df.pyrochem.list_oxides].astype(float).pyrocomp.renormalise()\n)\ndf[df.pyrochem.list_oxides] = blur_compositions(df[df.pyrochem.list_oxides])\n\ndf.Title = df.Title + \" \" + df.index.map(str)  # differentiate titles\ndf.Title = df.Title.apply(slugify)"
      ]
    },
    {
      "cell_type": "markdown",
      "metadata": {},
      "source": [
        "We can visualise this variation in a ternary space:\n\n\n"
      ]
    },
    {
      "cell_type": "code",
      "execution_count": null,
      "metadata": {
        "collapsed": false
      },
      "outputs": [],
      "source": [
        "ax = df.loc[:, [\"CaO\", \"MgO\", \"Al2O3\"]].pyroplot.ternary(alpha=0.2, c=\"0.5\")\nax.figure"
      ]
    },
    {
      "cell_type": "markdown",
      "metadata": {},
      "source": [
        "Now we can setup an environment for isobaric fractional crystallisation:\n\n\n"
      ]
    },
    {
      "cell_type": "code",
      "execution_count": null,
      "metadata": {
        "collapsed": false
      },
      "outputs": [],
      "source": [
        "from pyrolite_meltsutil.env import MELTS_Env\n\nenv = MELTS_Env()\nenv.VERSION = \"MELTS\"  # crustal processes, < 1GPa/10kbar\nenv.MODE = \"isobaric\"\nenv.DELTAT = -5\nenv.MINP = 0\nenv.MAXP = 10000"
      ]
    },
    {
      "cell_type": "markdown",
      "metadata": {},
      "source": [
        "Next we setup the alphaMELTS configuration for each of the inputs:\n\n\n"
      ]
    },
    {
      "cell_type": "code",
      "execution_count": null,
      "metadata": {
        "collapsed": false
      },
      "outputs": [],
      "source": [
        "from pyrolite_meltsutil.automation import MeltsBatch\n\n# create a directory to run this experiment in\ntempdir = Path(\"./\") / \"montecarlo\"\n\nbatch = MeltsBatch(\n    df,\n    default_config={\n        \"Initial Pressure\": 5000,\n        \"Initial Temperature\": 1300,\n        \"Final Temperature\": 800,\n        \"modes\": [\"isobaric\"],\n    },\n    grid={\n        # \"Initial Pressure\": [3000, 7000],\n        \"Log fO2 Path\": [None, \"FMQ\"],\n        # \"modifychem\": [None, {\"H2O\": 0.5}],\n    },\n    env=env,\n    logger=logger,\n    fromdir=tempdir,\n)\n\nbatch.grid  # [{}, {'Log fO2 Path': 'FMQ'}]"
      ]
    },
    {
      "cell_type": "markdown",
      "metadata": {},
      "source": [
        "The series of calls to alphaMELTS are now configured, and can be run as follows:\n\n\n"
      ]
    },
    {
      "cell_type": "code",
      "execution_count": null,
      "metadata": {
        "collapsed": false
      },
      "outputs": [],
      "source": [
        "batch.run(\n    overwrite=False\n)  # overwrite=False if you don't want to update existing exp folders"
      ]
    },
    {
      "cell_type": "markdown",
      "metadata": {},
      "source": [
        "We can aggregate and import these results for simple visualisations:\n\n\n"
      ]
    },
    {
      "cell_type": "code",
      "execution_count": null,
      "metadata": {
        "collapsed": false
      },
      "outputs": [],
      "source": [
        "from pathlib import Path\nfrom pyrolite_meltsutil.tables import get_experiments_summary\nfrom pyrolite_meltsutil.plottemplates import table_by_phase\n\ntempdir = Path(\"./\") / \"montecarlo\"\n\nsummary = get_experiments_summary(tempdir / \"isobar5kbar1300-800C\", kelvin=False)\nfig = table_by_phase(summary, table=\"phasemass\", plotswide=2, figsize=(10, 8))"
      ]
    }
  ],
  "metadata": {
    "kernelspec": {
      "display_name": "Python 3",
      "language": "python",
      "name": "python3"
    },
    "language_info": {
      "codemirror_mode": {
        "name": "ipython",
        "version": 3
      },
      "file_extension": ".py",
      "mimetype": "text/x-python",
      "name": "python",
      "nbconvert_exporter": "python",
      "pygments_lexer": "ipython3",
      "version": "3.6.7"
    }
  },
  "nbformat": 4,
  "nbformat_minor": 0
}